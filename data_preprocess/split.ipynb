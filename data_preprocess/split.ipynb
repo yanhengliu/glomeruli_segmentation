{
 "cells": [
  {
   "cell_type": "code",
   "execution_count": 1,
   "id": "996dffcc",
   "metadata": {},
   "outputs": [],
   "source": [
    "# Cell 1: import necessary libraries\n",
    "import os\n",
    "import shutil\n",
    "import random\n",
    "from pathlib import Path\n"
   ]
  },
  {
   "cell_type": "code",
   "execution_count": 2,
   "id": "fa5405c4",
   "metadata": {},
   "outputs": [],
   "source": [
    "base_dir     = Path.cwd()                   # Project root directory\n",
    "source_dir   = base_dir / 'train'           # Folder containing original images\n",
    "mask_source  = base_dir / 'masks'           # Folder containing original mask PNGs\n",
    "\n",
    "n_primary    = 1000                         # First 1000 images for train/val\n",
    "train_ratio  = 0.8                          # 80% of the first 1000 for training\n",
    "n_test       = 200                          # Next 200 images for test set\n",
    "\n",
    "# Output directories for images\n",
    "train_dir     = base_dir / 'train_set'\n",
    "val_dir       = base_dir / 'val_set'\n",
    "test_dir      = base_dir / 'test_set'\n",
    "\n",
    "# Output directories for masks\n",
    "train_mask_dir = base_dir / 'train_masks'\n",
    "val_mask_dir   = base_dir / 'val_masks'\n",
    "test_mask_dir  = base_dir / 'test_masks'\n"
   ]
  },
  {
   "cell_type": "code",
   "execution_count": 3,
   "id": "af291a76",
   "metadata": {},
   "outputs": [],
   "source": [
    "# List all .png files in the source directory\n",
    "image_files = [\n",
    "    f for f in source_dir.iterdir()\n",
    "    if f.is_file() and f.suffix.lower() == '.png'\n",
    "]\n",
    "\n",
    "# Shuffle with a fixed seed for reproducibility\n",
    "random.seed(42)\n",
    "random.shuffle(image_files)\n",
    "\n",
    "# Split into primary (first 1000) and test (next 200) subsets\n",
    "primary_imgs = image_files[:n_primary]\n",
    "test_images  = image_files[n_primary : n_primary + n_test]\n",
    "\n",
    "# Further split primary into train and validation\n",
    "split_idx    = int(len(primary_imgs) * train_ratio)\n",
    "train_images = primary_imgs[:split_idx]   # 800 images\n",
    "val_images   = primary_imgs[split_idx:]   # 200 images\n"
   ]
  },
  {
   "cell_type": "code",
   "execution_count": 4,
   "id": "d19cfe90",
   "metadata": {},
   "outputs": [],
   "source": [
    "# Create target directories if they do not exist\n",
    "for directory in (train_dir, val_dir, test_dir):\n",
    "    directory.mkdir(exist_ok=True)\n",
    "\n",
    "# Function to copy images to a target directory\n",
    "def copy_images(image_list, dest_dir):\n",
    "    for img in image_list:\n",
    "        shutil.copy(img, dest_dir / img.name)\n",
    "\n",
    "# Copy images\n",
    "copy_images(train_images, train_dir)\n",
    "copy_images(val_images,   val_dir)\n",
    "copy_images(test_images,  test_dir)\n"
   ]
  },
  {
   "cell_type": "code",
   "execution_count": 5,
   "id": "0b4cbf0e",
   "metadata": {},
   "outputs": [],
   "source": [
    "# Create mask directories if they do not exist\n",
    "for directory in (train_mask_dir, val_mask_dir, test_mask_dir):\n",
    "    directory.mkdir(exist_ok=True)\n",
    "\n",
    "# Function to copy masks corresponding to a list of images\n",
    "def copy_masks(image_list, mask_dest):\n",
    "    for img in image_list:\n",
    "        mask_file = mask_source / (img.stem + '.png')\n",
    "        if mask_file.exists():\n",
    "            shutil.copy(mask_file, mask_dest / mask_file.name)\n",
    "\n",
    "# Copy masks\n",
    "copy_masks(train_images, train_mask_dir)\n",
    "copy_masks(val_images,   val_mask_dir)\n",
    "copy_masks(test_images,  test_mask_dir)\n"
   ]
  },
  {
   "cell_type": "code",
   "execution_count": 6,
   "id": "d4c2d247",
   "metadata": {},
   "outputs": [
    {
     "name": "stdout",
     "output_type": "stream",
     "text": [
      "Total images found:       9580\n",
      "  • Training images:      800\n",
      "  • Validation images:    200\n",
      "  • Test images:          200\n",
      "\n",
      "Masks copied:\n",
      "  • Training masks:       800\n",
      "  • Validation masks:     200\n",
      "  • Test masks:           200\n"
     ]
    }
   ],
   "source": [
    "print(f\"Total images found:       {len(image_files)}\")\n",
    "print(f\"  • Training images:      {len(train_images)}\")\n",
    "print(f\"  • Validation images:    {len(val_images)}\")\n",
    "print(f\"  • Test images:          {len(test_images)}\\n\")\n",
    "\n",
    "print(\"Masks copied:\")\n",
    "print(f\"  • Training masks:       {len(list(train_mask_dir.iterdir()))}\")\n",
    "print(f\"  • Validation masks:     {len(list(val_mask_dir.iterdir()))}\")\n",
    "print(f\"  • Test masks:           {len(list(test_mask_dir.iterdir()))}\")\n"
   ]
  }
 ],
 "metadata": {
  "kernelspec": {
   "display_name": "base",
   "language": "python",
   "name": "python3"
  },
  "language_info": {
   "codemirror_mode": {
    "name": "ipython",
    "version": 3
   },
   "file_extension": ".py",
   "mimetype": "text/x-python",
   "name": "python",
   "nbconvert_exporter": "python",
   "pygments_lexer": "ipython3",
   "version": "3.8.20"
  }
 },
 "nbformat": 4,
 "nbformat_minor": 5
}
